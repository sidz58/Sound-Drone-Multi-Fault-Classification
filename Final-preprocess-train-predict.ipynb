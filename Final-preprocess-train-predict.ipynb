{
 "cells": [
  {
   "cell_type": "markdown",
   "id": "e567e4cf-97b2-45a2-86c8-7fab1c8abddf",
   "metadata": {},
   "source": [
    "# Section 1: \n",
    "# Preprocessing Data, Generating Labels and saving them to our system."
   ]
  },
  {
   "cell_type": "code",
   "execution_count": 1,
   "id": "531d6b71-d29f-4454-827a-1b346446d069",
   "metadata": {},
   "outputs": [],
   "source": [
    "import pandas as pd\n",
    "import numpy as np\n",
    "import matplotlib.pyplot as plt\n",
    "%matplotlib inline\n",
    "import seaborn as sns\n",
    "import os\n",
    "from glob import glob\n",
    "\n",
    "import librosa\n",
    "import librosa.display "
   ]
  },
  {
   "cell_type": "markdown",
   "id": "7d6579ea-62d0-4e7c-98d5-831c9b0c32b4",
   "metadata": {},
   "source": [
    "We define a few helper functions to calculate the mel spectrogram and save them onto our device. The values of mels, hoplength and sample rate were decided after experimenting with the data and finding which one was most suitable so store faster but with decent resolution. The final array created is a grayscale image which we with to input into our CNN."
   ]
  },
  {
   "cell_type": "code",
   "execution_count": 2,
   "id": "c1920afd-8723-41a1-9a4f-a71db0ba6f0c",
   "metadata": {},
   "outputs": [],
   "source": [
    "def compute_logmel_spectrogram(y, sr, n_mels=64, hop_length=125):\n",
    "    mel_spectrogram = librosa.feature.melspectrogram(y=y, sr=sr, n_mels=n_mels, hop_length=hop_length)\n",
    "    logmel_spectrogram = librosa.power_to_db(mel_spectrogram, ref=np.max)\n",
    "    return logmel_spectrogram\n",
    "\n",
    "def create_spectrogram(audio_file, array_file): # these are the exact file names of the wav file and the file name we want to save the image as\n",
    "    \n",
    "    y, sr = librosa.load(audio_file, sr = 12000)\n",
    "    log_melspec = compute_logmel_spectrogram(y, sr)\n",
    "    arr = np.expand_dims(log_melspec, axis=2) # to get it fit for our CNN, where we have a single channel here.\n",
    "    np.save(array_file, arr)\n",
    "\n",
    "def create_np_from_wavs(input_path, output_path, mic_string): # these are the directories where the files are stored and where we wanna store\n",
    "    if (not os.path.exists(output_path)):\n",
    "        os.makedirs(output_path)\n",
    "    # the above code is for making a directory where we wanna store if it already hasnt been made\n",
    "    dir = os.listdir(input_path) # list of all the audio files. Could have also used glob library\n",
    "\n",
    "    for file in dir:\n",
    "        input_file = os.path.join(input_path, file) # complete file path with .wav\n",
    "        output_file = os.path.join(output_path, file.replace('.wav', f'{mic_string}.npy')) # complete file path with .png and our required mic.\n",
    "        create_spectrogram(input_file, output_file)"
   ]
  },
  {
   "cell_type": "code",
   "execution_count": null,
   "id": "ec92f73f-943f-4770-97ae-bf5d8b91e3da",
   "metadata": {},
   "outputs": [],
   "source": [
    "# test data\n",
    "create_np_from_wavs(input_path = 'sound-based-drone-fault-classification-using-multi/Dataset/Dataset/drone_A/A/test/mic1', \n",
    "                        output_path = 'MelSpectrogram/test/A/mic1', \n",
    "                        mic_string = '_mic1')\n",
    "# test data for Amic2\n",
    "create_np_from_wavs(input_path = 'sound-based-drone-fault-classification-using-multi/Dataset/Dataset/drone_A/A/test/mic2', \n",
    "                        output_path = 'MelSpectrogram/test/A/mic2', \n",
    "                        mic_string = '_mic2')\n",
    "\n",
    "# test data for Bmic1, Bmic2\n",
    "create_np_from_wavs(input_path = 'sound-based-drone-fault-classification-using-multi/Dataset/Dataset/drone_B/B/test/mic1', \n",
    "                        output_path = 'MelSpectrogram/test/B/mic1', \n",
    "                        mic_string = '_mic1')\n",
    "create_np_from_wavs(input_path = 'sound-based-drone-fault-classification-using-multi/Dataset/Dataset/drone_B/B/test/mic2', \n",
    "                        output_path = 'MelSpectrogram/test/B/mic2', \n",
    "                        mic_string = '_mic2')\n",
    "\n",
    "# test for C\n",
    "create_np_from_wavs(input_path = 'sound-based-drone-fault-classification-using-multi/Dataset/Dataset/drone_C/C/test/mic1', \n",
    "                        output_path = 'MelSpectrogram/test/C/mic1', \n",
    "                        mic_string = '_mic1')\n",
    "create_np_from_wavs(input_path = 'sound-based-drone-fault-classification-using-multi/Dataset/Dataset/drone_C/C/test/mic2', \n",
    "                        output_path = 'MelSpectrogram/test/C/mic2', \n",
    "                        mic_string = '_mic2')"
   ]
  },
  {
   "cell_type": "code",
   "execution_count": null,
   "id": "a640654c-b2ad-4420-8ef1-66416231608b",
   "metadata": {},
   "outputs": [],
   "source": [
    "#train data for A\n",
    "create_np_from_wavs(input_path = 'sound-based-drone-fault-classification-using-multi/Dataset/Dataset/drone_A/A/train/mic1', \n",
    "                        output_path = 'MelSpectrogram/train/A/mic1', \n",
    "                        mic_string = '_mic1')\n",
    "\n",
    "create_np_from_wavs(input_path = 'sound-based-drone-fault-classification-using-multi/Dataset/Dataset/drone_A/A/train/mic2', \n",
    "                        output_path = 'MelSpectrogram/train/A/mic2', \n",
    "                        mic_string = '_mic2')\n",
    "\n",
    "# train data for b\n",
    "create_np_from_wavs(input_path = 'sound-based-drone-fault-classification-using-multi/Dataset/Dataset/drone_B/B/train/mic1', \n",
    "                        output_path = 'MelSpectrogram/train/B/mic1', \n",
    "                        mic_string = '_mic1')\n",
    "create_np_from_wavs(input_path = 'sound-based-drone-fault-classification-using-multi/Dataset/Dataset/drone_B/B/train/mic2', \n",
    "                        output_path = 'MelSpectrogram/train/B/mic2', \n",
    "                        mic_string = '_mic2')\n",
    "\n",
    "# train data for c\n",
    "create_np_from_wavs(input_path = 'sound-based-drone-fault-classification-using-multi/Dataset/Dataset/drone_C/C/train/mic1', \n",
    "                        output_path = 'MelSpectrogram/train/C/mic1', \n",
    "                        mic_string = '_mic1')\n",
    "create_np_from_wavs(input_path = 'sound-based-drone-fault-classification-using-multi/Dataset/Dataset/drone_C/C/train/mic2', \n",
    "                        output_path = 'MelSpectrogram/train/C/mic2', \n",
    "                        mic_string = '_mic2')"
   ]
  },
  {
   "cell_type": "code",
   "execution_count": null,
   "id": "c4f2b7ec-3513-4b57-8cac-5f12cd647cb7",
   "metadata": {},
   "outputs": [],
   "source": [
    "# validation for a\n",
    "create_np_from_wavs(input_path = 'sound-based-drone-fault-classification-using-multi/Dataset/Dataset/drone_A/A/valid/mic1', \n",
    "                        output_path = 'MelSpectrogram/valid/A/mic1', \n",
    "                        mic_string = '_mic1')\n",
    "create_np_from_wavs(input_path = 'sound-based-drone-fault-classification-using-multi/Dataset/Dataset/drone_A/A/valid/mic2', \n",
    "                        output_path = 'MelSpectrogram/valid/A/mic2', \n",
    "                        mic_string = '_mic2')\n",
    "\n",
    "# validation for b\n",
    "create_np_from_wavs(input_path = 'sound-based-drone-fault-classification-using-multi/Dataset/Dataset/drone_B/B/valid/mic1', \n",
    "                        output_path = 'MelSpectrogram/valid/B/mic1', \n",
    "                        mic_string = '_mic1')\n",
    "create_np_from_wavs(input_path = 'sound-based-drone-fault-classification-using-multi/Dataset/Dataset/drone_B/B/valid/mic2', \n",
    "                        output_path = 'MelSpectrogram/valid/B/mic2', \n",
    "                        mic_string = '_mic2')\n",
    "\n",
    "# validation for c\n",
    "create_np_from_wavs(input_path = 'sound-based-drone-fault-classification-using-multi/Dataset/Dataset/drone_C/C/valid/mic1', \n",
    "                        output_path = 'MelSpectrogram/valid/C/mic1', \n",
    "                        mic_string = '_mic1')\n",
    "create_np_from_wavs(input_path = 'sound-based-drone-fault-classification-using-multi/Dataset/Dataset/drone_C/C/valid/mic2', \n",
    "                        output_path = 'MelSpectrogram/valid/C/mic2', \n",
    "                        mic_string = '_mic2')"
   ]
  },
  {
   "cell_type": "markdown",
   "id": "9ea23e5e-2274-43ef-b115-bf877d13edb0",
   "metadata": {},
   "source": [
    "Should we proceed with making our labels? It only makes sense! \n",
    "Here we have all out data stratified, so our next goal while loading in the data will be to combine all this and also use our data loader to create suitable batch sizes"
   ]
  },
  {
   "cell_type": "code",
   "execution_count": 4,
   "id": "a9d36aa9-0a5a-4fee-9de7-36fd870b1f40",
   "metadata": {},
   "outputs": [
    {
     "name": "stdout",
     "output_type": "stream",
     "text": [
      "(64, 49, 1)\n"
     ]
    },
    {
     "data": {
      "text/plain": [
       "<matplotlib.image.AxesImage at 0x127226c2290>"
      ]
     },
     "execution_count": 4,
     "metadata": {},
     "output_type": "execute_result"
    },
    {
     "data": {
      "image/png": "[encoded data removed]",
      "text/plain": [
       "<Figure size 640x480 with 1 Axes>"
      ]
     },
     "metadata": {},
     "output_type": "display_data"
    }
   ],
   "source": [
    "# lets see the shape of our image:\n",
    "example = np.load('MelSpectrogram/test/A/mic1/A_B_MF1_0_ConstructionSite_6_snr=10.926310539796413_mic1.npy')\n",
    "example2 = np.load('MelSpectrogram/test/A/mic2/A_B_MF1_0_ConstructionSite_6_snr=10.926310539796413_mic2.npy')\n",
    "print(example.shape)\n",
    "plt.imshow(example, cmap = 'gray')"
   ]
  },
  {
   "cell_type": "markdown",
   "id": "6078186c-b413-4759-a67d-661f3ea1e5d8",
   "metadata": {},
   "source": [
    "Let us append the labels and the actual data in a together in a loop iteration.  \n",
    "This will help us move closer to generating the final X_train and Y_train."
   ]
  },
  {
   "cell_type": "code",
   "execution_count": 6,
   "id": "ad466ca3-2730-41c4-a48b-8b9dad13a6bb",
   "metadata": {},
   "outputs": [],
   "source": [
    "# define function that will return a single np image array(64,49,1) and a single label. We will define 2 empty lists before hand "
   ]
  },
  {
   "cell_type": "code",
   "execution_count": 7,
   "id": "68edd230-5c1c-4154-ab70-1db4ae9c43e1",
   "metadata": {},
   "outputs": [],
   "source": [
    "# we have basic file name\n",
    "# if the file name has '_mic1.npy' in it, we replace it with .npy only and then later add '_mic1' to it. Likewise with mic2\n",
    "#-------------------------------\n",
    "def split_labels(path):\n",
    "    file_name = os.path.basename(path)\n",
    "\n",
    "    if '_mic1' in file_name:\n",
    "        file_name = file_name.replace('_mic1.npy', '.npy_mic1') # this is only for generating our ID\n",
    "    elif '_mic2' in file_name:\n",
    "        file_name = file_name.replace('_mic2.npy', '.npy_mic2')\n",
    "\n",
    "    parts = file_name.split('_')\n",
    "    parts.insert(0, file_name) # 0th position of list has the 'ID' of our data\n",
    "    # we need only the first 4 entried of the list: ID, Dronetype, direction, fault\n",
    "    parts = parts[0:4]\n",
    "\n",
    "    return parts # returns a list\n",
    "\n",
    "#--------------------------------\n",
    "\n",
    "def load_imgLabel_from_path(directory):\n",
    "    imgArr = []\n",
    "    labelArr = []\n",
    "\n",
    "    dir = os.listdir(directory)\n",
    "    for i in range(len(dir)):\n",
    "        data = np.load(directory + '/' + dir[i])\n",
    "        imgArr.append(data)\n",
    "        \n",
    "        #---------\n",
    "        labelArr.append( split_labels(dir[i]) )\n",
    "\n",
    "    return imgArr, labelArr\n",
    "\n",
    "x_train = []\n",
    "y_train = []\n",
    "x_test = []\n",
    "y_test = []\n",
    "x_valid = []\n",
    "y_valid = []"
   ]
  },
  {
   "cell_type": "markdown",
   "id": "db3d3daf-e725-44f8-bac6-d20f8af3eef9",
   "metadata": {},
   "source": [
    "#### Preparing X_train and Y_train"
   ]
  },
  {
   "cell_type": "code",
   "execution_count": null,
   "id": "c29e38fe-5da8-4ee3-85b5-a1971cb610db",
   "metadata": {},
   "outputs": [],
   "source": [
    "directory = 'C:/Users/Siddh Singhal/AA_ArIES_Kaggle/MelSpectrogram/train/A/mic1'\n",
    "img, labels = load_imgLabel_from_path(directory)\n",
    "x_train += img\n",
    "y_train += labels\n",
    "\n",
    "directory = 'C:/Users/Siddh Singhal/AA_ArIES_Kaggle/MelSpectrogram/train/A/mic2'\n",
    "img, labels = load_imgLabel_from_path(directory)\n",
    "x_train += img\n",
    "y_train += labels\n",
    "\n",
    "directory = 'C:/Users/Siddh Singhal/AA_ArIES_Kaggle/MelSpectrogram/train/B/mic1'\n",
    "img, labels = load_imgLabel_from_path(directory)\n",
    "x_train += img\n",
    "y_train += labels\n",
    "\n",
    "directory = 'C:/Users/Siddh Singhal/AA_ArIES_Kaggle/MelSpectrogram/train/B/mic2'\n",
    "img, labels = load_imgLabel_from_path(directory)\n",
    "x_train += img\n",
    "y_train += labels\n",
    "\n",
    "directory = 'C:/Users/Siddh Singhal/AA_ArIES_Kaggle/MelSpectrogram/train/C/mic1'\n",
    "img, labels = load_imgLabel_from_path(directory)\n",
    "x_train += img\n",
    "y_train += labels\n",
    "\n",
    "directory = 'C:/Users/Siddh Singhal/AA_ArIES_Kaggle/MelSpectrogram/train/C/mic2'\n",
    "img, labels = load_imgLabel_from_path(directory)\n",
    "x_train += img\n",
    "y_train += labels"
   ]
  },
  {
   "cell_type": "code",
   "execution_count": 12,
   "id": "8c5f7eae-df80-4808-980f-adad5070c5ea",
   "metadata": {},
   "outputs": [
    {
     "name": "stdout",
     "output_type": "stream",
     "text": [
      "(194400, 64, 49, 1)\n",
      "(194400, 4)\n"
     ]
    }
   ],
   "source": [
    "X_train_data = np.array(x_train)\n",
    "Y_train_data = np.array(y_train)\n",
    "print(X_train_data.shape)\n",
    "print(Y_train_data.shape)"
   ]
  },
  {
   "cell_type": "code",
   "execution_count": 13,
   "id": "80568040-629c-4a82-8ba5-59e2bcfc161a",
   "metadata": {},
   "outputs": [
    {
     "name": "stdout",
     "output_type": "stream",
     "text": [
      "['A_B_MF1_mic1_100_EoeunHill_279_snr=11.12957698093741.npy_mic1' 'A' 'B'\n",
      " 'MF1']\n"
     ]
    },
    {
     "data": {
      "text/plain": [
       "<matplotlib.image.AxesImage at 0x12723c4fc10>"
      ]
     },
     "execution_count": 13,
     "metadata": {},
     "output_type": "execute_result"
    },
    {
     "data": {
      "image/png": "[encoded data removed]",
      "text/plain": [
       "<Figure size 640x480 with 1 Axes>"
      ]
     },
     "metadata": {},
     "output_type": "display_data"
    }
   ],
   "source": [
    "print(Y_train_data[1])\n",
    "plt.imshow(X_train_data[1])"
   ]
  },
  {
   "cell_type": "code",
   "execution_count": null,
   "id": "1fac4a93-131c-4afe-a550-0e5e18da1ccd",
   "metadata": {},
   "outputs": [],
   "source": [
    "# need ot save this array before anything else happens! XD\n",
    "np.save('X_train_data_melspec.npy', X_train_data)\n",
    "\n",
    "np.save('Y_train_data_melspec.npy', Y_train_data)"
   ]
  },
  {
   "cell_type": "markdown",
   "id": "745d1182-215d-465e-8f96-7d710cbea23f",
   "metadata": {},
   "source": [
    "##### Preparing Test data"
   ]
  },
  {
   "cell_type": "code",
   "execution_count": 16,
   "id": "607a7bd2-1014-4948-9165-195a6f5452b4",
   "metadata": {},
   "outputs": [],
   "source": [
    "directory = 'C:/Users/Siddh Singhal/AA_ArIES_Kaggle/MelSpectrogram/test/A/mic1'\n",
    "img2, labels2 = load_imgLabel_from_path(directory)\n",
    "x_test += img2\n",
    "y_test += labels2\n",
    "\n",
    "directory = 'C:/Users/Siddh Singhal/AA_ArIES_Kaggle/MelSpectrogram/test/A/mic2'\n",
    "img2, labels2 = load_imgLabel_from_path(directory)\n",
    "x_test += img2\n",
    "y_test += labels2\n",
    "\n",
    "#------------------------\n",
    "directory = 'C:/Users/Siddh Singhal/AA_ArIES_Kaggle/MelSpectrogram/test/B/mic1'\n",
    "img2, labels2 = load_imgLabel_from_path(directory)\n",
    "x_test += img2\n",
    "y_test += labels2\n",
    "\n",
    "directory = 'C:/Users/Siddh Singhal/AA_ArIES_Kaggle/MelSpectrogram/test/B/mic2'\n",
    "img2, labels2 = load_imgLabel_from_path(directory)\n",
    "x_test += img2\n",
    "y_test += labels2\n",
    "\n",
    "#-------------------------\n",
    "directory = 'C:/Users/Siddh Singhal/AA_ArIES_Kaggle/MelSpectrogram/test/C/mic1'\n",
    "img2, labels2 = load_imgLabel_from_path(directory)\n",
    "x_test += img2\n",
    "y_test += labels2\n",
    "\n",
    "directory = 'C:/Users/Siddh Singhal/AA_ArIES_Kaggle/MelSpectrogram/test/C/mic2'\n",
    "img2, labels2 = load_imgLabel_from_path(directory)\n",
    "x_test += img2\n",
    "y_test += labels2"
   ]
  },
  {
   "cell_type": "code",
   "execution_count": 17,
   "id": "565303b3-2afd-43e1-976c-20ff9ae217d0",
   "metadata": {},
   "outputs": [],
   "source": [
    "# saving the data:\n",
    "X_test_data = np.array(x_test)\n",
    "Y_test_data = np.array(y_test)\n",
    "np.save('X_test_data_melspec.npy', X_test_data)\n",
    "np.save('Y_test_data_melspec.npy', Y_test_data)"
   ]
  },
  {
   "cell_type": "code",
   "execution_count": 18,
   "id": "83b626bf-1070-4eac-b4c1-027ed0c29978",
   "metadata": {},
   "outputs": [
    {
     "name": "stdout",
     "output_type": "stream",
     "text": [
      "(64774, 64, 49, 1)\n",
      "(64774, 4)\n"
     ]
    }
   ],
   "source": [
    "print(X_test_data.shape)\n",
    "print(Y_test_data.shape)"
   ]
  },
  {
   "cell_type": "markdown",
   "id": "12584a0e-cd7d-45d2-ada2-b2cb9b6cef3d",
   "metadata": {},
   "source": [
    "##### Preparing Validation Data"
   ]
  },
  {
   "cell_type": "code",
   "execution_count": 19,
   "id": "1b20adce-b786-4fac-9ead-91d86c3eb709",
   "metadata": {},
   "outputs": [],
   "source": [
    "directory = 'C:/Users/Siddh Singhal/AA_ArIES_Kaggle/MelSpectrogram/valid/A/mic1'\n",
    "img3, labels3= load_imgLabel_from_path(directory)\n",
    "x_valid += img3\n",
    "y_valid += labels3\n",
    "\n",
    "directory = 'C:/Users/Siddh Singhal/AA_ArIES_Kaggle/MelSpectrogram/valid/A/mic2'\n",
    "img3, labels3= load_imgLabel_from_path(directory)\n",
    "x_valid += img3\n",
    "y_valid += labels3\n",
    "\n",
    "#------------------------\n",
    "directory = 'C:/Users/Siddh Singhal/AA_ArIES_Kaggle/MelSpectrogram/valid/B/mic1'\n",
    "img3, labels3= load_imgLabel_from_path(directory)\n",
    "x_valid += img3\n",
    "y_valid += labels3\n",
    "\n",
    "directory = 'C:/Users/Siddh Singhal/AA_ArIES_Kaggle/MelSpectrogram/valid/B/mic2'\n",
    "img3, labels3= load_imgLabel_from_path(directory)\n",
    "x_valid += img3\n",
    "y_valid += labels3\n",
    "\n",
    "#-------------------------\n",
    "directory = 'C:/Users/Siddh Singhal/AA_ArIES_Kaggle/MelSpectrogram/valid/C/mic1'\n",
    "img3, labels3= load_imgLabel_from_path(directory)\n",
    "x_valid += img3\n",
    "y_valid += labels3\n",
    "\n",
    "directory = 'C:/Users/Siddh Singhal/AA_ArIES_Kaggle/MelSpectrogram/valid/C/mic2'\n",
    "img3, labels3= load_imgLabel_from_path(directory)\n",
    "x_valid += img3\n",
    "y_valid += labels3"
   ]
  },
  {
   "cell_type": "code",
   "execution_count": 20,
   "id": "df3f5459-1a07-43cb-98b1-ef28e313b19d",
   "metadata": {},
   "outputs": [],
   "source": [
    "# saving the data:\n",
    "X_valid_data = np.array(x_valid)\n",
    "Y_valid_data = np.array(y_valid)\n",
    "np.save('X_valid_data_melspec.npy', X_valid_data)\n",
    "np.save('Y_valid_data_melspec.npy', Y_valid_data)"
   ]
  },
  {
   "cell_type": "code",
   "execution_count": 21,
   "id": "c9e1d9ed-903e-4307-ba49-42386532f0a0",
   "metadata": {},
   "outputs": [
    {
     "name": "stdout",
     "output_type": "stream",
     "text": [
      "(64800, 64, 49, 1)\n",
      "(64800, 4)\n"
     ]
    }
   ],
   "source": [
    "print(X_valid_data.shape)\n",
    "print(Y_valid_data.shape)"
   ]
  },
  {
   "cell_type": "markdown",
   "id": "c2231322-7077-4ca4-a01b-bbef9401afa5",
   "metadata": {},
   "source": [
    "##### Making our labels into a dataframe and saving it"
   ]
  },
  {
   "cell_type": "code",
   "execution_count": 25,
   "id": "dca1b8a2-5c51-4287-940a-b0cd632cabf1",
   "metadata": {},
   "outputs": [],
   "source": [
    "column_values = ['ID', 'model_type', 'maneuvering_direction', 'fault'] \n",
    "y_train_df = pd.DataFrame(data = Y_train_data,  columns = column_values)\n",
    "y_test_df = pd.DataFrame(data = Y_test_data, columns = column_values)\n",
    "y_valid_df = pd.DataFrame(data = Y_valid_data, columns = column_values)"
   ]
  },
  {
   "cell_type": "code",
   "execution_count": 26,
   "id": "3186d5c0-c29e-483f-88a8-7c522e68f4da",
   "metadata": {},
   "outputs": [
    {
     "data": {
      "text/html": [
       "<div>\n",
       "<style scoped>\n",
       "    .dataframe tbody tr th:only-of-type {\n",
       "        vertical-align: middle;\n",
       "    }\n",
       "\n",
       "    .dataframe tbody tr th {\n",
       "        vertical-align: top;\n",
       "    }\n",
       "\n",
       "    .dataframe thead th {\n",
       "        text-align: right;\n",
       "    }\n",
       "</style>\n",
       "<table border=\"1\" class=\"dataframe\">\n",
       "  <thead>\n",
       "    <tr style=\"text-align: right;\">\n",
       "      <th></th>\n",
       "      <th>ID</th>\n",
       "      <th>model_type</th>\n",
       "      <th>maneuvering_direction</th>\n",
       "      <th>fault</th>\n",
       "    </tr>\n",
       "  </thead>\n",
       "  <tbody>\n",
       "    <tr>\n",
       "      <th>0</th>\n",
       "      <td>A_B_MF1_639_SportsComplex_6_snr=10.77009646408...</td>\n",
       "      <td>A</td>\n",
       "      <td>B</td>\n",
       "      <td>MF1</td>\n",
       "    </tr>\n",
       "    <tr>\n",
       "      <th>1</th>\n",
       "      <td>A_B_MF1_640_ConstructionSite_891_snr=14.223962...</td>\n",
       "      <td>A</td>\n",
       "      <td>B</td>\n",
       "      <td>MF1</td>\n",
       "    </tr>\n",
       "    <tr>\n",
       "      <th>2</th>\n",
       "      <td>A_B_MF1_641_EoeunHill_744_snr=10.3459389390463...</td>\n",
       "      <td>A</td>\n",
       "      <td>B</td>\n",
       "      <td>MF1</td>\n",
       "    </tr>\n",
       "    <tr>\n",
       "      <th>3</th>\n",
       "      <td>A_B_MF1_642_DuckPond_58_snr=12.397906055100504...</td>\n",
       "      <td>A</td>\n",
       "      <td>B</td>\n",
       "      <td>MF1</td>\n",
       "    </tr>\n",
       "    <tr>\n",
       "      <th>4</th>\n",
       "      <td>A_B_MF1_643_ConstructionSite_356_snr=14.925637...</td>\n",
       "      <td>A</td>\n",
       "      <td>B</td>\n",
       "      <td>MF1</td>\n",
       "    </tr>\n",
       "    <tr>\n",
       "      <th>...</th>\n",
       "      <td>...</td>\n",
       "      <td>...</td>\n",
       "      <td>...</td>\n",
       "      <td>...</td>\n",
       "    </tr>\n",
       "    <tr>\n",
       "      <th>64795</th>\n",
       "      <td>C_R_PC4_816_ConstructionSite_843_snr=12.795851...</td>\n",
       "      <td>C</td>\n",
       "      <td>R</td>\n",
       "      <td>PC4</td>\n",
       "    </tr>\n",
       "    <tr>\n",
       "      <th>64796</th>\n",
       "      <td>C_R_PC4_817_ConstructionSite_290_snr=10.320124...</td>\n",
       "      <td>C</td>\n",
       "      <td>R</td>\n",
       "      <td>PC4</td>\n",
       "    </tr>\n",
       "    <tr>\n",
       "      <th>64797</th>\n",
       "      <td>C_R_PC4_818_SportsComplex_749_snr=11.816728604...</td>\n",
       "      <td>C</td>\n",
       "      <td>R</td>\n",
       "      <td>PC4</td>\n",
       "    </tr>\n",
       "    <tr>\n",
       "      <th>64798</th>\n",
       "      <td>C_R_PC4_81_EoeunHill_689_snr=10.75222326066223...</td>\n",
       "      <td>C</td>\n",
       "      <td>R</td>\n",
       "      <td>PC4</td>\n",
       "    </tr>\n",
       "    <tr>\n",
       "      <th>64799</th>\n",
       "      <td>C_R_PC4_8_WestDoor_245_snr=10.73151043573607.n...</td>\n",
       "      <td>C</td>\n",
       "      <td>R</td>\n",
       "      <td>PC4</td>\n",
       "    </tr>\n",
       "  </tbody>\n",
       "</table>\n",
       "<p>64800 rows × 4 columns</p>\n",
       "</div>"
      ],
      "text/plain": [
       "                                                      ID model_type  \\\n",
       "0      A_B_MF1_639_SportsComplex_6_snr=10.77009646408...          A   \n",
       "1      A_B_MF1_640_ConstructionSite_891_snr=14.223962...          A   \n",
       "2      A_B_MF1_641_EoeunHill_744_snr=10.3459389390463...          A   \n",
       "3      A_B_MF1_642_DuckPond_58_snr=12.397906055100504...          A   \n",
       "4      A_B_MF1_643_ConstructionSite_356_snr=14.925637...          A   \n",
       "...                                                  ...        ...   \n",
       "64795  C_R_PC4_816_ConstructionSite_843_snr=12.795851...          C   \n",
       "64796  C_R_PC4_817_ConstructionSite_290_snr=10.320124...          C   \n",
       "64797  C_R_PC4_818_SportsComplex_749_snr=11.816728604...          C   \n",
       "64798  C_R_PC4_81_EoeunHill_689_snr=10.75222326066223...          C   \n",
       "64799  C_R_PC4_8_WestDoor_245_snr=10.73151043573607.n...          C   \n",
       "\n",
       "      maneuvering_direction fault  \n",
       "0                         B   MF1  \n",
       "1                         B   MF1  \n",
       "2                         B   MF1  \n",
       "3                         B   MF1  \n",
       "4                         B   MF1  \n",
       "...                     ...   ...  \n",
       "64795                     R   PC4  \n",
       "64796                     R   PC4  \n",
       "64797                     R   PC4  \n",
       "64798                     R   PC4  \n",
       "64799                     R   PC4  \n",
       "\n",
       "[64800 rows x 4 columns]"
      ]
     },
     "execution_count": 26,
     "metadata": {},
     "output_type": "execute_result"
    }
   ],
   "source": [
    "y_valid_df"
   ]
  },
  {
   "cell_type": "code",
   "execution_count": 27,
   "id": "43bc9adb-a4d1-4a6a-9aed-4fa365fd5c83",
   "metadata": {},
   "outputs": [],
   "source": [
    "y_train_df.to_csv('y_train_mel_df.csv')\n",
    "y_test_df.to_csv('y_test_mel_df.csv')\n",
    "y_valid_df.to_csv('y_valid_mel_df.csv')"
   ]
  },
  {
   "cell_type": "markdown",
   "id": "3b6cedb4-0a05-430b-9d71-0f36a97c3eb0",
   "metadata": {},
   "source": [
    "# ----------------------------------------------"
   ]
  },
  {
   "cell_type": "markdown",
   "id": "c6753b6c-af07-4074-a808-3a5b8cd23e93",
   "metadata": {},
   "source": [
    "# Section 2:\n",
    "# Building our Neural Network for Multi-Task Learning\n",
    "\n",
    "It's time to load our data back in and prepare it for multi-task learning. We will start by importing some packages and handling our training, test and validation data. "
   ]
  },
  {
   "cell_type": "code",
   "execution_count": 1,
   "id": "28229fea-37b3-49e6-a078-671ec04f82ce",
   "metadata": {},
   "outputs": [],
   "source": [
    "import numpy as np\n",
    "import pandas as pd\n",
    "import torch\n",
    "import torch.nn as nn\n",
    "import torch.optim as optim\n",
    "import torchvision\n",
    "import torchvision.transforms as transforms\n",
    "import torch.nn.functional as F\n",
    "from torch.utils.data import DataLoader, Dataset\n",
    "import matplotlib.pyplot as plt\n",
    "from sklearn.preprocessing import LabelEncoder, OneHotEncoder\n",
    "\n",
    "device = torch.device('cuda' if torch.cuda.is_available() else 'cpu')"
   ]
  },
  {
   "cell_type": "markdown",
   "id": "edb80e84-d1e8-4e3d-ae8b-9cbb7d83e11b",
   "metadata": {},
   "source": [
    "The data saved is not normalized, and neither is the label categorized for the multiple tasks. Hence we carry out a few steps below.\n",
    "When we normalize the data, we use the transforms pipeline."
   ]
  },
  {
   "cell_type": "code",
   "execution_count": 2,
   "id": "da54d57b-6571-405b-8ed9-4a060f44a960",
   "metadata": {},
   "outputs": [],
   "source": [
    "# Helper functions\n",
    "def reduce_range_to_1(dataset):\n",
    "    dataset = np.abs(dataset) # because all values in np array were negative or 0\n",
    "    dataset /= np.max(dataset)\n",
    "    return dataset"
   ]
  },
  {
   "cell_type": "code",
   "execution_count": 3,
   "id": "c3754bd5-2d60-4f9e-9e9a-670d82e507fa",
   "metadata": {},
   "outputs": [],
   "source": [
    "x_train_mel = np.load('X_train_data_melspec.npy')\n",
    "y_train_mel = (pd.read_csv('y_train_mel_df.csv')).drop(['Unnamed: 0'], axis = 1)\n",
    "x_train_mel = reduce_range_to_1(x_train_mel)\n",
    "\n",
    "# x_test_mel = np.load('X_test_data_melspec.npy')\n",
    "# y_test_mel = pd.read_csv('y_test_mel_df.csv').drop(['Unnamed: 0'], axis = 1)\n",
    "# x_test_mel = reduce_range_to_1(x_test_mel)\n",
    "\n",
    "x_valid_mel = np.load('X_valid_data_melspec.npy')\n",
    "y_valid_mel = pd.read_csv('y_valid_mel_df.csv').drop(['Unnamed: 0'], axis = 1)\n",
    "x_valid_mel = reduce_range_to_1(x_valid_mel)"
   ]
  },
  {
   "cell_type": "code",
   "execution_count": 5,
   "id": "5ffb6386-8239-4cdc-a41c-18e66e68c78b",
   "metadata": {},
   "outputs": [
    {
     "data": {
      "text/html": [
       "<div>\n",
       "<style scoped>\n",
       "    .dataframe tbody tr th:only-of-type {\n",
       "        vertical-align: middle;\n",
       "    }\n",
       "\n",
       "    .dataframe tbody tr th {\n",
       "        vertical-align: top;\n",
       "    }\n",
       "\n",
       "    .dataframe thead th {\n",
       "        text-align: right;\n",
       "    }\n",
       "</style>\n",
       "<table border=\"1\" class=\"dataframe\">\n",
       "  <thead>\n",
       "    <tr style=\"text-align: right;\">\n",
       "      <th></th>\n",
       "      <th>ID</th>\n",
       "      <th>model_type</th>\n",
       "      <th>maneuvering_direction</th>\n",
       "      <th>fault</th>\n",
       "    </tr>\n",
       "  </thead>\n",
       "  <tbody>\n",
       "    <tr>\n",
       "      <th>0</th>\n",
       "      <td>A_B_MF1_0_ConstructionSite_6_snr=10.9263105397...</td>\n",
       "      <td>0</td>\n",
       "      <td>0</td>\n",
       "      <td>0</td>\n",
       "    </tr>\n",
       "    <tr>\n",
       "      <th>1</th>\n",
       "      <td>A_B_MF1_100_SportsComplex_497_snr=11.773913984...</td>\n",
       "      <td>0</td>\n",
       "      <td>0</td>\n",
       "      <td>0</td>\n",
       "    </tr>\n",
       "    <tr>\n",
       "      <th>2</th>\n",
       "      <td>A_B_MF1_101_SportsComplex_1124_snr=12.55819879...</td>\n",
       "      <td>0</td>\n",
       "      <td>0</td>\n",
       "      <td>0</td>\n",
       "    </tr>\n",
       "    <tr>\n",
       "      <th>3</th>\n",
       "      <td>A_B_MF1_102_DuckPond_295_snr=14.95198719869922...</td>\n",
       "      <td>0</td>\n",
       "      <td>0</td>\n",
       "      <td>0</td>\n",
       "    </tr>\n",
       "    <tr>\n",
       "      <th>4</th>\n",
       "      <td>A_B_MF1_103_DuckPond_869_snr=11.14729381389035...</td>\n",
       "      <td>0</td>\n",
       "      <td>0</td>\n",
       "      <td>0</td>\n",
       "    </tr>\n",
       "    <tr>\n",
       "      <th>...</th>\n",
       "      <td>...</td>\n",
       "      <td>...</td>\n",
       "      <td>...</td>\n",
       "      <td>...</td>\n",
       "    </tr>\n",
       "    <tr>\n",
       "      <th>64769</th>\n",
       "      <td>C_R_PC4_977_DuckPond_51_snr=13.385901779609418...</td>\n",
       "      <td>2</td>\n",
       "      <td>5</td>\n",
       "      <td>8</td>\n",
       "    </tr>\n",
       "    <tr>\n",
       "      <th>64770</th>\n",
       "      <td>C_R_PC4_97_DuckPond_87_snr=10.6205468195042.np...</td>\n",
       "      <td>2</td>\n",
       "      <td>5</td>\n",
       "      <td>8</td>\n",
       "    </tr>\n",
       "    <tr>\n",
       "      <th>64771</th>\n",
       "      <td>C_R_PC4_98_SportsComplex_1018_snr=12.076786226...</td>\n",
       "      <td>2</td>\n",
       "      <td>5</td>\n",
       "      <td>8</td>\n",
       "    </tr>\n",
       "    <tr>\n",
       "      <th>64772</th>\n",
       "      <td>C_R_PC4_99_ConstructionSite_843_snr=12.7518851...</td>\n",
       "      <td>2</td>\n",
       "      <td>5</td>\n",
       "      <td>8</td>\n",
       "    </tr>\n",
       "    <tr>\n",
       "      <th>64773</th>\n",
       "      <td>C_R_PC4_9_WestDoor_160_snr=12.72477460501578.n...</td>\n",
       "      <td>2</td>\n",
       "      <td>5</td>\n",
       "      <td>8</td>\n",
       "    </tr>\n",
       "  </tbody>\n",
       "</table>\n",
       "<p>64774 rows × 4 columns</p>\n",
       "</div>"
      ],
      "text/plain": [
       "                                                      ID  model_type  \\\n",
       "0      A_B_MF1_0_ConstructionSite_6_snr=10.9263105397...           0   \n",
       "1      A_B_MF1_100_SportsComplex_497_snr=11.773913984...           0   \n",
       "2      A_B_MF1_101_SportsComplex_1124_snr=12.55819879...           0   \n",
       "3      A_B_MF1_102_DuckPond_295_snr=14.95198719869922...           0   \n",
       "4      A_B_MF1_103_DuckPond_869_snr=11.14729381389035...           0   \n",
       "...                                                  ...         ...   \n",
       "64769  C_R_PC4_977_DuckPond_51_snr=13.385901779609418...           2   \n",
       "64770  C_R_PC4_97_DuckPond_87_snr=10.6205468195042.np...           2   \n",
       "64771  C_R_PC4_98_SportsComplex_1018_snr=12.076786226...           2   \n",
       "64772  C_R_PC4_99_ConstructionSite_843_snr=12.7518851...           2   \n",
       "64773  C_R_PC4_9_WestDoor_160_snr=12.72477460501578.n...           2   \n",
       "\n",
       "       maneuvering_direction  fault  \n",
       "0                          0      0  \n",
       "1                          0      0  \n",
       "2                          0      0  \n",
       "3                          0      0  \n",
       "4                          0      0  \n",
       "...                      ...    ...  \n",
       "64769                      5      8  \n",
       "64770                      5      8  \n",
       "64771                      5      8  \n",
       "64772                      5      8  \n",
       "64773                      5      8  \n",
       "\n",
       "[64774 rows x 4 columns]"
      ]
     },
     "execution_count": 5,
     "metadata": {},
     "output_type": "execute_result"
    }
   ],
   "source": [
    "label_enc_y_train = y_train_mel\n",
    "label_enc_y_test = y_test_mel\n",
    "label_enc_y_valid = y_valid_mel\n",
    "\n",
    "label_encoder = LabelEncoder()\n",
    "label_enc_y_train['model_type']= label_encoder.fit_transform(y_train_mel['model_type'])\n",
    "label_enc_y_train['maneuvering_direction']= label_encoder.fit_transform(y_train_mel['maneuvering_direction'])\n",
    "label_enc_y_train['fault']= label_encoder.fit_transform(y_train_mel['fault'])\n",
    "\n",
    "# label_enc_y_test['model_type']= label_encoder.fit_transform(y_test_mel['model_type'])\n",
    "# label_enc_y_test['maneuvering_direction']= label_encoder.fit_transform(y_test_mel['maneuvering_direction'])\n",
    "# label_enc_y_test['fault']= label_encoder.fit_transform(y_test_mel['fault'])\n",
    "\n",
    "label_enc_y_valid['model_type']= label_encoder.fit_transform(y_valid_mel['model_type'])\n",
    "label_enc_y_valid['maneuvering_direction']= label_encoder.fit_transform(y_valid_mel['maneuvering_direction'])\n",
    "label_enc_y_valid['fault']= label_encoder.fit_transform(y_valid_mel['fault'])\n",
    "\n",
    "label_enc_y_valid"
   ]
  },
  {
   "cell_type": "code",
   "execution_count": 6,
   "id": "7e70f146-63e1-4c02-ace0-300f7c8d75ac",
   "metadata": {},
   "outputs": [
    {
     "data": {
      "text/plain": [
       "array([[0.],\n",
       "       [0.],\n",
       "       [0.],\n",
       "       ...,\n",
       "       [8.],\n",
       "       [8.],\n",
       "       [8.]])"
      ]
     },
     "execution_count": 6,
     "metadata": {},
     "output_type": "execute_result"
    }
   ],
   "source": [
    "\n",
    "y_train_labels = (label_enc_y_train.iloc[:, [0]]).to_numpy()\n",
    "y_train_drone_arr = ((label_enc_y_train.iloc[:, [1]]).to_numpy()).astype(float)\n",
    "y_train_dir_arr = ((label_enc_y_train.iloc[:, [2]]).to_numpy()).astype(float)\n",
    "y_train_fault_arr = ((label_enc_y_train.iloc[:, [3]]).to_numpy()).astype(float)\n",
    "#-------------\n",
    "\n",
    "y_test_labels = (label_enc_y_test.iloc[:, [0]]).to_numpy()\n",
    "y_test_drone_arr = ((label_enc_y_test.iloc[:, [1]]).to_numpy()).astype(float)\n",
    "y_test_dir_arr = ((label_enc_y_test.iloc[:, [2]]).to_numpy()).astype(float)\n",
    "y_test_fault_arr = ((label_enc_y_test.iloc[:, [3]]).to_numpy()).astype(float)\n",
    "#-------------\n",
    "\n",
    "y_valid_labels = (label_enc_y_valid.iloc[:, [0]]).to_numpy()\n",
    "y_valid_drone_arr = ((label_enc_y_valid.iloc[:, [1]]).to_numpy()).astype(float)\n",
    "y_valid_dir_arr = ((label_enc_y_valid.iloc[:, [2]]).to_numpy()).astype(float)\n",
    "y_valid_fault_arr = ((label_enc_y_valid.iloc[:, [3]]).to_numpy()).astype(float)\n",
    "\n",
    "y_valid_fault_arr"
   ]
  },
  {
   "cell_type": "markdown",
   "id": "954c36cf-fd8e-470d-aefc-b43574c2c78c",
   "metadata": {},
   "source": [
    "The dataloader takes in a dataset that has both the x_labels and the y_labels. So I have to define a custom dataset."
   ]
  },
  {
   "cell_type": "code",
   "execution_count": 7,
   "id": "241dc8a2-0550-417c-943b-f75e8bc8c2c9",
   "metadata": {},
   "outputs": [],
   "source": [
    "# Inherit from class Dataset of pytorch. It has the len and getitem function\n",
    "class customDataset(Dataset):\n",
    "    def __init__(self, x_data, y_labels, drone, direction, fault):\n",
    "        self.X_data = x_data \n",
    "        self.Y_labels = y_labels\n",
    "        self.drone = drone\n",
    "        self.direction = direction\n",
    "        self.fault = fault\n",
    "        self.transform = transforms.Compose([\n",
    "        transforms.ToTensor(),\n",
    "        transforms.Normalize((0.5), (0.5)) \n",
    "        # the above takes mean and std for every channel. I have chosen 0.5 and 0.5 because it brings the range of dataset to -1 and 1\n",
    "    ])\n",
    "\n",
    "    def __len__(self):\n",
    "        return len(self.X_data)\n",
    "\n",
    "    def __getitem__(self, i):\n",
    "        x = self.X_data[i]\n",
    "        x = self.transform(x)\n",
    "        file_name = self.Y_labels[i]\n",
    "        drone = torch.tensor(self.drone[i])\n",
    "        direc = torch.tensor(self.direction[i])\n",
    "        fault = torch.tensor(self.fault[i])\n",
    "        labels = (drone, direc, fault)\n",
    "        # converitng my y_labels to tensor from numpy\n",
    "        \n",
    "        return x, labels#, file_name"
   ]
  },
  {
   "cell_type": "code",
   "execution_count": 8,
   "id": "fd5d9d86-ac58-4b52-a5e0-291a7f7189cc",
   "metadata": {},
   "outputs": [],
   "source": [
    "train_dataset_mel = customDataset(x_train_mel, y_train_labels, y_train_drone_arr, y_train_dir_arr, y_train_fault_arr)\n",
    "test_dataset_mel = customDataset(x_test_mel, y_test_labels, y_test_drone_arr, y_test_dir_arr, y_test_fault_arr)\n",
    "valid_dataset_mel = customDataset(x_valid_mel, y_valid_labels, y_valid_drone_arr, y_valid_dir_arr, y_valid_fault_arr)\n",
    "# transform composition from above"
   ]
  },
  {
   "cell_type": "markdown",
   "id": "2c29a489-9536-4111-b168-7a11cda67906",
   "metadata": {},
   "source": [
    "Thought: Use of dropout and learning rate decay while training"
   ]
  },
  {
   "cell_type": "code",
   "execution_count": 9,
   "id": "7d37c747-416b-474c-9fa3-fe78325babbb",
   "metadata": {},
   "outputs": [],
   "source": [
    "batch_size = 64\n",
    "n_epochs = 5\n",
    "learning_rate_initial = 0.001 # my plan is to use a learning rate decay to prevent overshooting as i approach the end."
   ]
  },
  {
   "cell_type": "code",
   "execution_count": 10,
   "id": "b7211674-a270-49fd-ba1f-7df0a7b40ec7",
   "metadata": {},
   "outputs": [],
   "source": [
    "train_loader = torch.utils.data.DataLoader(train_dataset_mel, batch_size = batch_size, shuffle = True)\n",
    "test_loader = torch.utils.data.DataLoader(test_dataset_mel, batch_size = batch_size, shuffle = False)  # because this is just for evaluation, no need to shuffle\n",
    "valid_loader = torch.utils.data.DataLoader(valid_dataset_mel , batch_size = batch_size, shuffle = False)"
   ]
  },
  {
   "cell_type": "markdown",
   "id": "93743bf3-d565-4753-b8d1-924b58ae49c4",
   "metadata": {},
   "source": [
    "##### We successfully have a prepared dataset and dataloader with our y_data having integer labels for our cross entropy loss!\n",
    "Let us now get into building our model!"
   ]
  },
  {
   "attachments": {
    "6e2000ea-1113-4b91-9c42-24d0a72a5f55.png": {
     "image/png": "[encoded data removed]"
    }
   },
   "cell_type": "markdown",
   "id": "7752943e-8626-48a0-b246-494cfa3402d5",
   "metadata": {},
   "source": [
    "##### Note for cross entropy loss:\n",
    "![image.png](attachment:6e2000ea-1113-4b91-9c42-24d0a72a5f55.png)"
   ]
  },
  {
   "cell_type": "code",
   "execution_count": 11,
   "id": "f76f310b-d326-4d4e-85a3-82a3b9a28625",
   "metadata": {},
   "outputs": [],
   "source": [
    "class mtlCNN(nn.Module):\n",
    "    def __init__(self, in_channels = 1, n_drone_class = 3, n_direction = 6, n_fault = 9, dropout_rate = 0.1):\n",
    "        super(mtlCNN, self).__init__()\n",
    "        self.conv1 = nn.Conv2d(1, 6, kernel_size = 3, stride = 1, padding = 1) # input channels, output channels, padding = same\n",
    "        self.pool1 = nn.MaxPool2d(kernel_size=2, stride=2) # makes the dimensions half. so 32x24\n",
    "        self.conv2 = nn.Conv2d(6, 16, kernel_size = 5, stride = 1, padding = 2) # dimensions 15x10, padding = same\n",
    "        self.conv3 = nn.Conv2d(16, 32, 2, 2)\n",
    "        self.pool2 = nn.MaxPool2d(2,2) # dimensions = 8*6 with 32 filters\n",
    "        \n",
    "        # fully connected layer, making 3 heads for our 3 tasks\n",
    "        \n",
    "        self.drone_type_fc = nn.Linear(32*8*6, 3)\n",
    "        self.dir_fc = nn.Linear(32*8*6, 6)\n",
    "        self.fault_fc = nn.Linear(32*8*6, 9)\n",
    "        \n",
    "        self.dropout1 = nn.Dropout(p=dropout_rate)\n",
    "        self.dropout2 = nn.Dropout(p=dropout_rate)\n",
    "        # using dropout as a method for regularization, so it doesnt overfit to the training set\n",
    "\n",
    "    def forward(self, x):\n",
    "        out = self.pool1(F.relu(self.conv1(x)))\n",
    "        out = self.dropout1(out)\n",
    "        out = F.relu(self.conv2(out))\n",
    "        out = self.pool2(F.relu(self.conv3(out)))\n",
    "        out = self.dropout2(out)\n",
    "        out = out.view(out.size(0), -1) # preserves the number of samples of images, and flattens the image into dense format\n",
    "        pred_drone = self.drone_type_fc(out)\n",
    "        pred_direction = self.dir_fc(out)\n",
    "        pred_fault = self.fault_fc(out)\n",
    "\n",
    "        return pred_drone, pred_direction, pred_fault"
   ]
  },
  {
   "cell_type": "code",
   "execution_count": 41,
   "id": "61ebf454-60af-481b-975e-a92e8187c727",
   "metadata": {},
   "outputs": [
    {
     "name": "stdout",
     "output_type": "stream",
     "text": [
      "tensor([0., 0., 0., 0., 0., 0., 0., 0., 0., 0., 0., 0., 0., 0., 0., 0., 0., 0., 0., 0., 0., 0., 0., 0.,\n",
      "        0., 0., 0., 0., 0., 0., 0., 0., 0., 0., 0., 0., 0., 0., 0., 0., 0., 0., 0., 0., 0., 0., 0., 0.,\n",
      "        0., 0., 0., 0., 0., 0., 0., 0., 0., 0., 0., 0., 0., 0., 0., 0.],\n",
      "       dtype=torch.float64)\n"
     ]
    }
   ],
   "source": [
    "# testing cell, application later:\n",
    "# for batch_id, (inputs, labels) in enumerate(test_loader):\n",
    "#     (lbl_drone, lbl_direction, lbl_fault) = labels\n",
    "#     if True:\n",
    "#         print(lbl_drone.view(-1))\n",
    "#         break"
   ]
  },
  {
   "cell_type": "code",
   "execution_count": 20,
   "id": "43a55858-5c0d-41c7-9183-ec54bb1c9070",
   "metadata": {},
   "outputs": [],
   "source": [
    "def train_val_Compute(model, dataloader, optimizer, criterion, is_training, device, epoch, num_epochs):\n",
    "\n",
    "    total_examples = 0\n",
    "    correct_preds = torch.zeros((3,1), dtype=torch.float32, device=device)\n",
    "    losses = [] # total losses stored\n",
    "    \n",
    "    with torch.set_grad_enabled(is_training): # a single function for both train and validation\n",
    "\n",
    "        if is_training: \n",
    "            model.train()\n",
    "        else: \n",
    "            model.eval()\n",
    "\n",
    "        \n",
    "        for batch_id, (inputs, labels) in enumerate(dataloader):\n",
    "            inputs = inputs.to(device)\n",
    "            # Error: \"nll_loss_forward_reduce_cuda_kernel_2d_index\" not implemented for 'Float'\n",
    "            # to avoid this, cast to long Tensor\n",
    "            labels = [lbl.type(torch.LongTensor) for lbl in labels]\n",
    "            labels = [lbl.to(device) for lbl in labels]\n",
    "            (lbl_drone, lbl_direction, lbl_fault) = labels\n",
    "\n",
    "            # converting the labels to one dimension, as required by the loss funciton\n",
    "            lbl_drone = lbl_drone.view(-1)\n",
    "            lbl_direction = lbl_direction.view(-1)\n",
    "            lbl_fault = lbl_fault.view(-1)\n",
    "            \n",
    "            preds = model(inputs)\n",
    "            (pred_drone, pred_direction, pred_fault) = preds\n",
    "\n",
    "            loss_drone = criterion(pred_drone, lbl_drone)\n",
    "            loss_direction = criterion(pred_direction, lbl_direction)\n",
    "            loss_fault = criterion(pred_fault, lbl_fault)\n",
    "\n",
    "            loss_final = loss_drone + loss_direction + loss_fault\n",
    "            losses.append(loss_final.item())\n",
    "\n",
    "            # finding accuracy:\n",
    "            # to be noted: the predictions come as probabilities for every class. So we need to round them\n",
    "            correct_preds[0] +=  torch.mean((torch.argmax(pred_drone) == lbl_drone).float()) # mean over number of examples in a single batch\n",
    "            # converts boolean to float value, then finds mean value over a single batch\n",
    "            correct_preds[1] +=  torch.mean((torch.argmax(pred_direction) == lbl_direction).float())\n",
    "            correct_preds[2] +=  torch.mean((torch.argmax(pred_fault) == lbl_fault).float())\n",
    "            total_examples += inputs.size(0)\n",
    "\n",
    "            if is_training:\n",
    "                optimizer.zero_grad() \n",
    "                # needed so that grad is emptied every iteration\n",
    "                loss_final.backward()\n",
    "                optimizer.step()\n",
    "\n",
    "        task_accuracies = torch.zeros((3,1), dtype = torch.float32)\n",
    "        task_accuracies[0] = correct_preds[0]/total_examples\n",
    "        task_accuracies[1] = correct_preds[1]/total_examples\n",
    "        task_accuracies[2] = correct_preds[2]/total_examples\n",
    "\n",
    "        avg_loss_epoch = sum(losses)/ len(losses)\n",
    "\n",
    "        # Printing the accuracies:\n",
    "        # print(f'Epoch [{epoch+1}/{num_epochs}], Loss: {avg_loss_epoch: 0.4f}')\n",
    "        # print('Drone Acc: ', 100*task_accuracies[0], '% Direction Acc: ', 100*task_accuracies[1], '% Fault Acc: ', 100*task_accuracies[2], '%')"
   ]
  },
  {
   "cell_type": "code",
   "execution_count": 21,
   "id": "ec33b583-59e9-4fe8-acee-5fd3749688b4",
   "metadata": {},
   "outputs": [],
   "source": [
    "# train loop\n",
    "\n",
    "def train_loop(model, num_epochs, dataloader_train, dataloader_val, \n",
    "               lr_scheduler, criterion, optimizer): \n",
    "    \n",
    "    device = torch.device('cuda' if torch.cuda.is_available() else 'cpu')\n",
    "    model = model.to(device)\n",
    "    for epoch in range(num_epochs):\n",
    "        # we have to get the lr from the scheduler... so we do this: .get_last_lr\n",
    "        lr_new = lr_scheduler.get_last_lr()\n",
    "        # print(\"lr = \", lr_new)\n",
    "         \n",
    "        print(f'Epoch {epoch}: \\nTRAINING')\n",
    "        train_val_Compute(model, dataloader_train, optimizer, criterion, True, device, epoch, num_epochs)\n",
    "        lr_scheduler.step()\n",
    "        print(\"VALIDATION\")\n",
    "        train_val_Compute(model, dataloader_val, optimizer, criterion, False, device, epoch, num_epochs)"
   ]
  },
  {
   "cell_type": "markdown",
   "id": "10c42159-a715-4cf2-8f86-c8fd75d4ad7e",
   "metadata": {},
   "source": [
    "Setting up our hyperparameters"
   ]
  },
  {
   "cell_type": "code",
   "execution_count": 22,
   "id": "e253795e-d057-4b5a-9fc8-b7428d22b7c6",
   "metadata": {},
   "outputs": [],
   "source": [
    "lr_initial = 0.001\n",
    "epochs = 15\n",
    "\n",
    "model = mtlCNN().to(device)\n",
    "criterion = nn.CrossEntropyLoss()\n",
    "optimizer = torch.optim.Adam(model.parameters(), lr = learning_rate_initial)\n",
    "lr_sched = torch.optim.lr_scheduler.StepLR(optimizer, step_size = 5, gamma=0.9) #changes every 5 epochs"
   ]
  },
  {
   "cell_type": "markdown",
   "id": "a7caa8a5-cd0b-4486-a4c6-5802b65d9027",
   "metadata": {},
   "source": [
    "#### Training our model"
   ]
  },
  {
   "cell_type": "code",
   "execution_count": null,
   "id": "439f96c1-dd5e-407c-9d49-9152517f1814",
   "metadata": {},
   "outputs": [],
   "source": [
    "train_loop(model, epochs, train_loader, valid_loader, lr_sched, criterion, optimizer)"
   ]
  },
  {
   "cell_type": "code",
   "execution_count": 24,
   "id": "3af93851-5132-4264-8c64-65b349fe6053",
   "metadata": {},
   "outputs": [],
   "source": [
    "# SAVE THE MODEL\n",
    "torch.save(model, 'mtlDronev3')\n",
    "\n",
    "# '''model = torch.load(PATH)\n",
    "# model.eval()'''"
   ]
  },
  {
   "cell_type": "markdown",
   "id": "f37801ad-7942-433b-9fef-6c35c5f78c93",
   "metadata": {},
   "source": [
    "# ----------------------------------------------"
   ]
  },
  {
   "cell_type": "markdown",
   "id": "855d5129",
   "metadata": {},
   "source": [
    "# Section 3:\n",
    "# Running our model on test data"
   ]
  },
  {
   "cell_type": "code",
   "execution_count": 1,
   "id": "914dcce6",
   "metadata": {
    "execution": {
     "iopub.execute_input": "2024-04-03T10:17:38.414829Z",
     "iopub.status.busy": "2024-04-03T10:17:38.414531Z",
     "iopub.status.idle": "2024-04-03T10:17:46.764960Z",
     "shell.execute_reply": "2024-04-03T10:17:46.763964Z",
     "shell.execute_reply.started": "2024-04-03T10:17:38.414803Z"
    }
   },
   "outputs": [],
   "source": [
    "import numpy as np\n",
    "import pandas as pd\n",
    "import torch\n",
    "import torch.nn as nn\n",
    "import torch.optim as optim\n",
    "import torchvision\n",
    "import torchvision.transforms as transforms\n",
    "import torch.nn.functional as F\n",
    "from torch.utils.data import DataLoader, Dataset\n",
    "import matplotlib.pyplot as plt\n",
    "from sklearn.preprocessing import LabelEncoder, OneHotEncoder\n",
    "\n",
    "device = torch.device('cuda' if torch.cuda.is_available() else 'cpu')"
   ]
  },
  {
   "cell_type": "code",
   "execution_count": 2,
   "id": "4c5b771a",
   "metadata": {
    "execution": {
     "iopub.execute_input": "2024-04-03T10:17:46.767854Z",
     "iopub.status.busy": "2024-04-03T10:17:46.766858Z",
     "iopub.status.idle": "2024-04-03T10:17:46.980237Z",
     "shell.execute_reply": "2024-04-03T10:17:46.979322Z",
     "shell.execute_reply.started": "2024-04-03T10:17:46.767817Z"
    }
   },
   "outputs": [
    {
     "data": {
      "text/plain": [
       "mtlCNN(\n",
       "  (conv1): Conv2d(1, 6, kernel_size=(3, 3), stride=(1, 1), padding=(1, 1))\n",
       "  (pool1): MaxPool2d(kernel_size=2, stride=2, padding=0, dilation=1, ceil_mode=False)\n",
       "  (conv2): Conv2d(6, 16, kernel_size=(5, 5), stride=(1, 1), padding=(2, 2))\n",
       "  (conv3): Conv2d(16, 32, kernel_size=(2, 2), stride=(2, 2))\n",
       "  (pool2): MaxPool2d(kernel_size=2, stride=2, padding=0, dilation=1, ceil_mode=False)\n",
       "  (drone_type_fc): Linear(in_features=1536, out_features=3, bias=True)\n",
       "  (dir_fc): Linear(in_features=1536, out_features=6, bias=True)\n",
       "  (fault_fc): Linear(in_features=1536, out_features=9, bias=True)\n",
       "  (dropout1): Dropout(p=0.1, inplace=False)\n",
       "  (dropout2): Dropout(p=0.1, inplace=False)\n",
       ")"
      ]
     },
     "execution_count": 2,
     "metadata": {},
     "output_type": "execute_result"
    }
   ],
   "source": [
    "class mtlCNN(nn.Module):\n",
    "    def __init__(self, in_channels = 1, n_drone_class = 3, n_direction = 6, n_fault = 9, dropout_rate = 0.1):\n",
    "        super(mtlCNN, self).__init__()\n",
    "        self.conv1 = nn.Conv2d(1, 6, kernel_size = 3, stride = 1, padding = 1) # input channels, output channels, padding = same\n",
    "        self.pool1 = nn.MaxPool2d(kernel_size=2, stride=2) # makes the dimensions half. so 32x24\n",
    "        self.conv2 = nn.Conv2d(6, 16, kernel_size = 5, stride = 1, padding = 2) # dimensions 15x10, padding = same\n",
    "        self.conv3 = nn.Conv2d(16, 32, 2, 2)\n",
    "        self.pool2 = nn.MaxPool2d(2,2) # dimensions = 8*6 with 32 filters\n",
    "        # fully connected layer, making 3 heads for our 3 tasks\n",
    "        self.drone_type_fc = nn.Linear(32*8*6, 3)\n",
    "        self.dir_fc = nn.Linear(32*8*6, 6)\n",
    "        self.fault_fc = nn.Linear(32*8*6, 9)\n",
    "        \n",
    "        self.dropout1 = nn.Dropout(p=dropout_rate)\n",
    "        self.dropout2 = nn.Dropout(p=dropout_rate)\n",
    "        # using droput as a method for regularization, so it doesnt overfit to the training set\n",
    "\n",
    "    def forward(self, x):\n",
    "        out = self.pool1(F.relu(self.conv1(x)))\n",
    "        out = self.dropout1(out)\n",
    "        out = F.relu(self.conv2(out))\n",
    "        out = self.pool2(F.relu(self.conv3(out)))\n",
    "        out = self.dropout2(out)\n",
    "        out = out.view(out.size(0), -1) # preserves the number of samples of images, and flattens the image into dense\n",
    "        pred_drone = self.drone_type_fc(out)\n",
    "        pred_direction = self.dir_fc(out)\n",
    "        pred_fault = self.fault_fc(out)\n",
    "\n",
    "        return pred_drone, pred_direction, pred_fault\n",
    "    \n",
    "model = torch.load(\"/kaggle/input/test-dataset/mtlDronev3\")\n",
    "model.to(device)"
   ]
  },
  {
   "cell_type": "markdown",
   "id": "8dd86da0-ee5e-4cf7-b11a-09c4ec804632",
   "metadata": {},
   "source": [
    "#### Idea: Make 3 separate label encoder so that it will be useful for inverse transformation to true labels."
   ]
  },
  {
   "cell_type": "code",
   "execution_count": 16,
   "id": "2defa328",
   "metadata": {
    "execution": {
     "iopub.execute_input": "2024-04-03T10:23:24.489423Z",
     "iopub.status.busy": "2024-04-03T10:23:24.489017Z",
     "iopub.status.idle": "2024-04-03T10:23:25.316681Z",
     "shell.execute_reply": "2024-04-03T10:23:25.315834Z",
     "shell.execute_reply.started": "2024-04-03T10:23:24.489394Z"
    }
   },
   "outputs": [],
   "source": [
    "def reduce_range_to_1(dataset):\n",
    "    dataset = np.abs(dataset) # works because all values in np array were negative or 0\n",
    "    dataset /= np.max(dataset)\n",
    "    return dataset\n",
    "\n",
    "x_test_mel = np.load('/kaggle/input/test-dataset/X_test_data_melspec.npy')\n",
    "y_test_mel = pd.read_csv('/kaggle/input/test-dataset/y_test_mel_df.csv').drop(['Unnamed: 0'], axis = 1)\n",
    "x_test_mel = reduce_range_to_1(x_test_mel)\n",
    "\n",
    "label_encoder1 = LabelEncoder()\n",
    "label_encoder2 = LabelEncoder()\n",
    "label_encoder3 = LabelEncoder()\n",
    "# making separate because useful for inverse label encoding in submission csv\n",
    "\n",
    "label_enc_y_test = y_test_mel\n",
    "label_enc_y_test['model_type']= label_encoder1.fit_transform(y_test_mel['model_type'])\n",
    "label_enc_y_test['maneuvering_direction']= label_encoder2.fit_transform(y_test_mel['maneuvering_direction'])\n",
    "label_enc_y_test['fault']= label_encoder3.fit_transform(y_test_mel['fault'])\n",
    "\n",
    "y_test_labels = (label_enc_y_test.iloc[:, [0]]).to_numpy()\n",
    "y_test_drone_arr = ((label_enc_y_test.iloc[:, [1]]).to_numpy()).astype(float)\n",
    "y_test_dir_arr = ((label_enc_y_test.iloc[:, [2]]).to_numpy()).astype(float)\n",
    "y_test_fault_arr = ((label_enc_y_test.iloc[:, [3]]).to_numpy()).astype(float)"
   ]
  },
  {
   "cell_type": "code",
   "execution_count": 4,
   "id": "d193b3d7",
   "metadata": {
    "execution": {
     "iopub.execute_input": "2024-04-03T10:17:53.176174Z",
     "iopub.status.busy": "2024-04-03T10:17:53.175873Z",
     "iopub.status.idle": "2024-04-03T10:17:53.185902Z",
     "shell.execute_reply": "2024-04-03T10:17:53.185004Z",
     "shell.execute_reply.started": "2024-04-03T10:17:53.176148Z"
    }
   },
   "outputs": [],
   "source": [
    "class customDataset(Dataset):\n",
    "    def __init__(self, x_data, y_labels, drone, direction, fault):\n",
    "        self.X_data = x_data \n",
    "        self.Y_labels = y_labels\n",
    "        self.drone = drone\n",
    "        self.direction = direction\n",
    "        self.fault = fault\n",
    "        self.transform = transforms.Compose([\n",
    "        transforms.ToTensor(),\n",
    "        transforms.Normalize((0.5), (0.5)) \n",
    "        # the above takes mean and std for every channel. I have chosen 0.5 and 0.5 because it brings the range of dataset to -1 and 1\n",
    "    ])\n",
    "\n",
    "    def __len__(self):\n",
    "        return len(self.X_data)\n",
    "\n",
    "    def __getitem__(self, i):\n",
    "        x = self.X_data[i]\n",
    "        x = self.transform(x)\n",
    "        file_name = self.Y_labels[i]\n",
    "        drone = torch.tensor(self.drone[i])\n",
    "        direc = torch.tensor(self.direction[i])\n",
    "        fault = torch.tensor(self.fault[i])\n",
    "        labels = (drone, direc, fault)\n",
    "        # converitng my y_labels to tensor from numpy\n",
    "        \n",
    "        return x, labels\n",
    "\n",
    "\n",
    "test_dataset_mel = customDataset(x_test_mel, y_test_labels, y_test_drone_arr, y_test_dir_arr, y_test_fault_arr)\n",
    "batch_size = 64\n",
    "test_loader = torch.utils.data.DataLoader(test_dataset_mel, batch_size = batch_size, shuffle = False) "
   ]
  },
  {
   "cell_type": "code",
   "execution_count": 5,
   "id": "1d223eb3",
   "metadata": {
    "execution": {
     "iopub.execute_input": "2024-04-03T10:17:53.187093Z",
     "iopub.status.busy": "2024-04-03T10:17:53.186841Z",
     "iopub.status.idle": "2024-04-03T10:18:01.460801Z",
     "shell.execute_reply": "2024-04-03T10:18:01.459907Z",
     "shell.execute_reply.started": "2024-04-03T10:17:53.187062Z"
    }
   },
   "outputs": [
    {
     "name": "stdout",
     "output_type": "stream",
     "text": [
      "torch.Size([64774, 3])\n",
      "torch.Size([64774, 6])\n",
      "torch.Size([64774, 9])\n"
     ]
    }
   ],
   "source": [
    "device = torch.device('cuda' if torch.cuda.is_available() else 'cpu')\n",
    "drone_preds = torch.tensor([], device = device)\n",
    "direction_preds = torch.tensor([], device = device)\n",
    "fault_preds = torch.tensor([], device = device)\n",
    "model.eval()\n",
    "for imgs, labels in test_loader:\n",
    "    # Your training code here\n",
    "    imgs = imgs.to(device)\n",
    "\n",
    "    preds = model(imgs)\n",
    "    preds = [prd.to(device) for prd in preds]\n",
    "    (pred_drone, pred_direction, pred_fault) = preds\n",
    "    \n",
    "    \n",
    "    drone_preds = torch.cat((drone_preds, pred_drone), 0)\n",
    "    direction_preds = torch.cat((direction_preds, pred_direction), 0)\n",
    "    fault_preds = torch.cat((fault_preds, pred_fault), 0)\n",
    "    \n",
    "print(drone_preds.shape)\n",
    "print(direction_preds.shape)\n",
    "print(fault_preds.shape)"
   ]
  },
  {
   "cell_type": "markdown",
   "id": "69726a56-29cc-4933-abd7-1cfcfe54b176",
   "metadata": {},
   "source": [
    "### Generating our final labels for predictions"
   ]
  },
  {
   "cell_type": "code",
   "execution_count": 6,
   "id": "8df6d2d7",
   "metadata": {
    "execution": {
     "iopub.execute_input": "2024-04-03T10:18:01.462230Z",
     "iopub.status.busy": "2024-04-03T10:18:01.461977Z",
     "iopub.status.idle": "2024-04-03T10:18:09.961774Z",
     "shell.execute_reply": "2024-04-03T10:18:09.960916Z",
     "shell.execute_reply.started": "2024-04-03T10:18:01.462208Z"
    }
   },
   "outputs": [],
   "source": [
    "# storing these arg max values in an arrays to generate a proper output with the labels we have\n",
    "length = len(drone_preds)\n",
    "drone_preds_arr = torch.zeros((length,1), dtype= torch.float32, device = 'cpu')\n",
    "direction_preds_arr = torch.zeros((length,1), dtype= torch.float32,  device = 'cpu')\n",
    "fault_preds_arr = torch.zeros((length,1), dtype= torch.float32,  device = 'cpu')\n",
    "\n",
    "for i in range(length):\n",
    "    drone_preds_arr[i] = torch.argmax(drone_preds[i])\n",
    "    direction_preds_arr[i] = torch.argmax(direction_preds[i])\n",
    "    fault_preds_arr[i] = torch.argmax(fault_preds[i])"
   ]
  },
  {
   "cell_type": "markdown",
   "id": "dffa7592",
   "metadata": {},
   "source": [
    "#### Calculating accuracies for all the 3 tasks"
   ]
  },
  {
   "cell_type": "code",
   "execution_count": null,
   "id": "206f1670",
   "metadata": {},
   "outputs": [],
   "source": [
    "# drone_acc = 100*((drone_preds_arr.numpy() == y_test_drone_arr).sum().item())/length\n",
    "# direction_acc = 100*((direction_preds_arr.numpy() == y_test_dir_arr).sum().item())/length\n",
    "# fault_acc = 100*((fault_preds_arr.numpy() == y_test_fault_arr).sum().item())/length\n",
    "# print('Drone Classification accuracy: ', drone_acc, '%')\n",
    "# print('Direction Classification accuracy: ', direction_acc, '%')\n",
    "# print('Fault Classification accuracy: ', fault_acc, '%')\n",
    "\n",
    "# expected_score = (drone_acc + 2*direction_acc + 1.5*fault_acc)/(1 + 2 + 1.5)\n",
    "# print('Expected Score: ', expected_score)"
   ]
  },
  {
   "cell_type": "markdown",
   "id": "23c39233",
   "metadata": {},
   "source": [
    "##### Now we export our labels to their respective class names and then make a final CSV file to be submitted"
   ]
  },
  {
   "cell_type": "code",
   "execution_count": 28,
   "id": "a20fe434",
   "metadata": {
    "execution": {
     "iopub.execute_input": "2024-04-03T11:11:06.760080Z",
     "iopub.status.busy": "2024-04-03T11:11:06.759667Z",
     "iopub.status.idle": "2024-04-03T11:11:06.809420Z",
     "shell.execute_reply": "2024-04-03T11:11:06.808284Z",
     "shell.execute_reply.started": "2024-04-03T11:11:06.760048Z"
    }
   },
   "outputs": [
    {
     "data": {
      "text/html": [
       "<div>\n",
       "<style scoped>\n",
       "    .dataframe tbody tr th:only-of-type {\n",
       "        vertical-align: middle;\n",
       "    }\n",
       "\n",
       "    .dataframe tbody tr th {\n",
       "        vertical-align: top;\n",
       "    }\n",
       "\n",
       "    .dataframe thead th {\n",
       "        text-align: right;\n",
       "    }\n",
       "</style>\n",
       "<table border=\"1\" class=\"dataframe\">\n",
       "  <thead>\n",
       "    <tr style=\"text-align: right;\">\n",
       "      <th></th>\n",
       "      <th>ID</th>\n",
       "      <th>model_type</th>\n",
       "      <th>maneuvering_direction</th>\n",
       "      <th>fault</th>\n",
       "    </tr>\n",
       "  </thead>\n",
       "  <tbody>\n",
       "    <tr>\n",
       "      <th>0</th>\n",
       "      <td>A_B_MF1_0_ConstructionSite_6_snr=10.9263105397...</td>\n",
       "      <td>0</td>\n",
       "      <td>3</td>\n",
       "      <td>4</td>\n",
       "    </tr>\n",
       "    <tr>\n",
       "      <th>1</th>\n",
       "      <td>A_B_MF1_100_SportsComplex_497_snr=11.773913984...</td>\n",
       "      <td>0</td>\n",
       "      <td>1</td>\n",
       "      <td>4</td>\n",
       "    </tr>\n",
       "    <tr>\n",
       "      <th>2</th>\n",
       "      <td>A_B_MF1_101_SportsComplex_1124_snr=12.55819879...</td>\n",
       "      <td>0</td>\n",
       "      <td>4</td>\n",
       "      <td>4</td>\n",
       "    </tr>\n",
       "    <tr>\n",
       "      <th>3</th>\n",
       "      <td>A_B_MF1_102_DuckPond_295_snr=14.95198719869922...</td>\n",
       "      <td>0</td>\n",
       "      <td>0</td>\n",
       "      <td>1</td>\n",
       "    </tr>\n",
       "    <tr>\n",
       "      <th>4</th>\n",
       "      <td>A_B_MF1_103_DuckPond_869_snr=11.14729381389035...</td>\n",
       "      <td>0</td>\n",
       "      <td>2</td>\n",
       "      <td>0</td>\n",
       "    </tr>\n",
       "    <tr>\n",
       "      <th>...</th>\n",
       "      <td>...</td>\n",
       "      <td>...</td>\n",
       "      <td>...</td>\n",
       "      <td>...</td>\n",
       "    </tr>\n",
       "    <tr>\n",
       "      <th>64769</th>\n",
       "      <td>C_R_PC4_977_DuckPond_51_snr=13.385901779609418...</td>\n",
       "      <td>2</td>\n",
       "      <td>5</td>\n",
       "      <td>8</td>\n",
       "    </tr>\n",
       "    <tr>\n",
       "      <th>64770</th>\n",
       "      <td>C_R_PC4_97_DuckPond_87_snr=10.6205468195042.wa...</td>\n",
       "      <td>2</td>\n",
       "      <td>5</td>\n",
       "      <td>8</td>\n",
       "    </tr>\n",
       "    <tr>\n",
       "      <th>64771</th>\n",
       "      <td>C_R_PC4_98_SportsComplex_1018_snr=12.076786226...</td>\n",
       "      <td>2</td>\n",
       "      <td>5</td>\n",
       "      <td>8</td>\n",
       "    </tr>\n",
       "    <tr>\n",
       "      <th>64772</th>\n",
       "      <td>C_R_PC4_99_ConstructionSite_843_snr=12.7518851...</td>\n",
       "      <td>2</td>\n",
       "      <td>5</td>\n",
       "      <td>4</td>\n",
       "    </tr>\n",
       "    <tr>\n",
       "      <th>64773</th>\n",
       "      <td>C_R_PC4_9_WestDoor_160_snr=12.72477460501578.w...</td>\n",
       "      <td>2</td>\n",
       "      <td>5</td>\n",
       "      <td>8</td>\n",
       "    </tr>\n",
       "  </tbody>\n",
       "</table>\n",
       "<p>64774 rows × 4 columns</p>\n",
       "</div>"
      ],
      "text/plain": [
       "                                                      ID  model_type  \\\n",
       "0      A_B_MF1_0_ConstructionSite_6_snr=10.9263105397...           0   \n",
       "1      A_B_MF1_100_SportsComplex_497_snr=11.773913984...           0   \n",
       "2      A_B_MF1_101_SportsComplex_1124_snr=12.55819879...           0   \n",
       "3      A_B_MF1_102_DuckPond_295_snr=14.95198719869922...           0   \n",
       "4      A_B_MF1_103_DuckPond_869_snr=11.14729381389035...           0   \n",
       "...                                                  ...         ...   \n",
       "64769  C_R_PC4_977_DuckPond_51_snr=13.385901779609418...           2   \n",
       "64770  C_R_PC4_97_DuckPond_87_snr=10.6205468195042.wa...           2   \n",
       "64771  C_R_PC4_98_SportsComplex_1018_snr=12.076786226...           2   \n",
       "64772  C_R_PC4_99_ConstructionSite_843_snr=12.7518851...           2   \n",
       "64773  C_R_PC4_9_WestDoor_160_snr=12.72477460501578.w...           2   \n",
       "\n",
       "       maneuvering_direction  fault  \n",
       "0                          3      4  \n",
       "1                          1      4  \n",
       "2                          4      4  \n",
       "3                          0      1  \n",
       "4                          2      0  \n",
       "...                      ...    ...  \n",
       "64769                      5      8  \n",
       "64770                      5      8  \n",
       "64771                      5      8  \n",
       "64772                      5      4  \n",
       "64773                      5      8  \n",
       "\n",
       "[64774 rows x 4 columns]"
      ]
     },
     "execution_count": 28,
     "metadata": {},
     "output_type": "execute_result"
    }
   ],
   "source": [
    "submission_csv = pd.DataFrame(label_enc_y_test['ID'].str.replace('.npy', '.wav'))\n",
    "submission_csv['model_type'] = drone_preds_arr.int()\n",
    "submission_csv['maneuvering_direction'] = direction_preds_arr.int()\n",
    "submission_csv['fault'] = fault_preds_arr.int()\n",
    "submission_csv"
   ]
  },
  {
   "cell_type": "code",
   "execution_count": 29,
   "id": "8d84a174",
   "metadata": {
    "execution": {
     "iopub.execute_input": "2024-04-03T11:11:09.586036Z",
     "iopub.status.busy": "2024-04-03T11:11:09.585382Z",
     "iopub.status.idle": "2024-04-03T11:11:09.605574Z",
     "shell.execute_reply": "2024-04-03T11:11:09.604674Z",
     "shell.execute_reply.started": "2024-04-03T11:11:09.586003Z"
    }
   },
   "outputs": [
    {
     "data": {
      "text/html": [
       "<div>\n",
       "<style scoped>\n",
       "    .dataframe tbody tr th:only-of-type {\n",
       "        vertical-align: middle;\n",
       "    }\n",
       "\n",
       "    .dataframe tbody tr th {\n",
       "        vertical-align: top;\n",
       "    }\n",
       "\n",
       "    .dataframe thead th {\n",
       "        text-align: right;\n",
       "    }\n",
       "</style>\n",
       "<table border=\"1\" class=\"dataframe\">\n",
       "  <thead>\n",
       "    <tr style=\"text-align: right;\">\n",
       "      <th></th>\n",
       "      <th>ID</th>\n",
       "      <th>model_type</th>\n",
       "      <th>maneuvering_direction</th>\n",
       "      <th>fault</th>\n",
       "    </tr>\n",
       "  </thead>\n",
       "  <tbody>\n",
       "    <tr>\n",
       "      <th>0</th>\n",
       "      <td>A_B_MF1_0_ConstructionSite_6_snr=10.9263105397...</td>\n",
       "      <td>A</td>\n",
       "      <td>F</td>\n",
       "      <td>N</td>\n",
       "    </tr>\n",
       "    <tr>\n",
       "      <th>1</th>\n",
       "      <td>A_B_MF1_100_SportsComplex_497_snr=11.773913984...</td>\n",
       "      <td>A</td>\n",
       "      <td>C</td>\n",
       "      <td>N</td>\n",
       "    </tr>\n",
       "    <tr>\n",
       "      <th>2</th>\n",
       "      <td>A_B_MF1_101_SportsComplex_1124_snr=12.55819879...</td>\n",
       "      <td>A</td>\n",
       "      <td>L</td>\n",
       "      <td>N</td>\n",
       "    </tr>\n",
       "    <tr>\n",
       "      <th>3</th>\n",
       "      <td>A_B_MF1_102_DuckPond_295_snr=14.95198719869922...</td>\n",
       "      <td>A</td>\n",
       "      <td>B</td>\n",
       "      <td>MF2</td>\n",
       "    </tr>\n",
       "    <tr>\n",
       "      <th>4</th>\n",
       "      <td>A_B_MF1_103_DuckPond_869_snr=11.14729381389035...</td>\n",
       "      <td>A</td>\n",
       "      <td>CC</td>\n",
       "      <td>MF1</td>\n",
       "    </tr>\n",
       "    <tr>\n",
       "      <th>...</th>\n",
       "      <td>...</td>\n",
       "      <td>...</td>\n",
       "      <td>...</td>\n",
       "      <td>...</td>\n",
       "    </tr>\n",
       "    <tr>\n",
       "      <th>64769</th>\n",
       "      <td>C_R_PC4_977_DuckPond_51_snr=13.385901779609418...</td>\n",
       "      <td>C</td>\n",
       "      <td>R</td>\n",
       "      <td>PC4</td>\n",
       "    </tr>\n",
       "    <tr>\n",
       "      <th>64770</th>\n",
       "      <td>C_R_PC4_97_DuckPond_87_snr=10.6205468195042.wa...</td>\n",
       "      <td>C</td>\n",
       "      <td>R</td>\n",
       "      <td>PC4</td>\n",
       "    </tr>\n",
       "    <tr>\n",
       "      <th>64771</th>\n",
       "      <td>C_R_PC4_98_SportsComplex_1018_snr=12.076786226...</td>\n",
       "      <td>C</td>\n",
       "      <td>R</td>\n",
       "      <td>PC4</td>\n",
       "    </tr>\n",
       "    <tr>\n",
       "      <th>64772</th>\n",
       "      <td>C_R_PC4_99_ConstructionSite_843_snr=12.7518851...</td>\n",
       "      <td>C</td>\n",
       "      <td>R</td>\n",
       "      <td>N</td>\n",
       "    </tr>\n",
       "    <tr>\n",
       "      <th>64773</th>\n",
       "      <td>C_R_PC4_9_WestDoor_160_snr=12.72477460501578.w...</td>\n",
       "      <td>C</td>\n",
       "      <td>R</td>\n",
       "      <td>PC4</td>\n",
       "    </tr>\n",
       "  </tbody>\n",
       "</table>\n",
       "<p>64774 rows × 4 columns</p>\n",
       "</div>"
      ],
      "text/plain": [
       "                                                      ID model_type  \\\n",
       "0      A_B_MF1_0_ConstructionSite_6_snr=10.9263105397...          A   \n",
       "1      A_B_MF1_100_SportsComplex_497_snr=11.773913984...          A   \n",
       "2      A_B_MF1_101_SportsComplex_1124_snr=12.55819879...          A   \n",
       "3      A_B_MF1_102_DuckPond_295_snr=14.95198719869922...          A   \n",
       "4      A_B_MF1_103_DuckPond_869_snr=11.14729381389035...          A   \n",
       "...                                                  ...        ...   \n",
       "64769  C_R_PC4_977_DuckPond_51_snr=13.385901779609418...          C   \n",
       "64770  C_R_PC4_97_DuckPond_87_snr=10.6205468195042.wa...          C   \n",
       "64771  C_R_PC4_98_SportsComplex_1018_snr=12.076786226...          C   \n",
       "64772  C_R_PC4_99_ConstructionSite_843_snr=12.7518851...          C   \n",
       "64773  C_R_PC4_9_WestDoor_160_snr=12.72477460501578.w...          C   \n",
       "\n",
       "      maneuvering_direction fault  \n",
       "0                         F     N  \n",
       "1                         C     N  \n",
       "2                         L     N  \n",
       "3                         B   MF2  \n",
       "4                        CC   MF1  \n",
       "...                     ...   ...  \n",
       "64769                     R   PC4  \n",
       "64770                     R   PC4  \n",
       "64771                     R   PC4  \n",
       "64772                     R     N  \n",
       "64773                     R   PC4  \n",
       "\n",
       "[64774 rows x 4 columns]"
      ]
     },
     "execution_count": 29,
     "metadata": {},
     "output_type": "execute_result"
    }
   ],
   "source": [
    "submission_csv['model_type'] = label_encoder1.inverse_transform(submission_csv['model_type'])\n",
    "submission_csv['maneuvering_direction'] = label_encoder2.inverse_transform(submission_csv['maneuvering_direction'])\n",
    "submission_csv['fault'] = label_encoder3.inverse_transform(submission_csv['fault'])\n",
    "submission_csv"
   ]
  },
  {
   "cell_type": "code",
   "execution_count": null,
   "id": "4ce93eb7",
   "metadata": {},
   "outputs": [],
   "source": [
    "submission_csv.to_csv('/kaggle/working/submissionv3.csv', index = False)"
   ]
  },
  {
   "cell_type": "code",
   "execution_count": null,
   "id": "2071c803-56a1-47a6-871e-c3b64db3d8f2",
   "metadata": {},
   "outputs": [],
   "source": []
  }
 ],
 "metadata": {
  "kernelspec": {
   "display_name": "Python 3 (ipykernel)",
   "language": "python",
   "name": "python3"
  },
  "language_info": {
   "codemirror_mode": {
    "name": "ipython",
    "version": 3
   },
   "file_extension": ".py",
   "mimetype": "text/x-python",
   "name": "python",
   "nbconvert_exporter": "python",
   "pygments_lexer": "ipython3",
   "version": "3.11.5"
  }
 },
 "nbformat": 4,
 "nbformat_minor": 5
}
